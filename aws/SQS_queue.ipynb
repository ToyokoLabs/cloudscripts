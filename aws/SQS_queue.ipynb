{
 "cells": [
  {
   "cell_type": "markdown",
   "metadata": {},
   "source": [
    "### Send items to a queue"
   ]
  },
  {
   "cell_type": "code",
   "execution_count": 1,
   "metadata": {},
   "outputs": [],
   "source": [
    "import boto3"
   ]
  },
  {
   "cell_type": "code",
   "execution_count": 4,
   "metadata": {},
   "outputs": [],
   "source": [
    "awskeys = open('keys.csv').read()\n",
    "keyid, secret = awskeys.split(',')"
   ]
  },
  {
   "cell_type": "code",
   "execution_count": 9,
   "metadata": {},
   "outputs": [
    {
     "data": {
      "text/plain": [
       "sqs.ServiceResource()"
      ]
     },
     "execution_count": 9,
     "metadata": {},
     "output_type": "execute_result"
    }
   ],
   "source": [
    "client = boto3.resource('sqs', region_name='us-west-2',\n",
    "                    aws_access_key_id=keyid, \n",
    "                    aws_secret_access_key=secret[:-1])\n",
    "client"
   ]
  },
  {
   "cell_type": "code",
   "execution_count": 6,
   "metadata": {},
   "outputs": [],
   "source": [
    "sqs_q = 'https://sqs.us-west-2.amazonaws.com/344265375347/pepttest'"
   ]
  },
  {
   "cell_type": "code",
   "execution_count": 10,
   "metadata": {},
   "outputs": [],
   "source": [
    "queue = client.get_queue_by_name(QueueName='pepttest')"
   ]
  },
  {
   "cell_type": "code",
   "execution_count": 11,
   "metadata": {},
   "outputs": [],
   "source": [
    "response = queue.send_message(MessageBody='{ NHIS GLY PHE VAL CGLN }')"
   ]
  },
  {
   "cell_type": "code",
   "execution_count": 12,
   "metadata": {},
   "outputs": [
    {
     "data": {
      "text/plain": [
       "{'MD5OfMessageBody': '213fe1835e97bf4e6c5262490d2643a6',\n",
       " 'MessageId': '6bceb2f1-c91b-4cfe-8a97-734ea1fc3596',\n",
       " 'ResponseMetadata': {'RequestId': '54e71bee-fbee-5f9b-beb3-43c7e99bcb47',\n",
       "  'HTTPStatusCode': 200,\n",
       "  'HTTPHeaders': {'x-amzn-requestid': '54e71bee-fbee-5f9b-beb3-43c7e99bcb47',\n",
       "   'date': 'Fri, 13 Nov 2020 23:01:09 GMT',\n",
       "   'content-type': 'text/xml',\n",
       "   'content-length': '378'},\n",
       "  'RetryAttempts': 0}}"
      ]
     },
     "execution_count": 12,
     "metadata": {},
     "output_type": "execute_result"
    }
   ],
   "source": [
    "response"
   ]
  },
  {
   "cell_type": "code",
   "execution_count": 13,
   "metadata": {},
   "outputs": [],
   "source": [
    "pepspile = \"\"\"{ NVAL LYS ASP VAL CILE }\n",
    "{ NMET ASN LYS TRP CALA }\n",
    "{ NHIS GLY VAL VAL CGLN }\n",
    "{ NHIS HIS CYS TYR CASN }\n",
    "{ NGLY GLY ASN PRO CGLY }\n",
    "{ NGLY TYR VAL GLU CLEU }\n",
    "{ NHIS TYR ALA ASN CPRO }\n",
    "{ NALA MET LYS TRP CALA }\n",
    "{ NGLY TYR VAL GLU CALA }\n",
    "{ NGLY TYR VAL VAL CLEU }\n",
    "\"\"\""
   ]
  },
  {
   "cell_type": "code",
   "execution_count": 20,
   "metadata": {},
   "outputs": [
    {
     "data": {
      "text/plain": [
       "'{ NVAL LYS ASP VAL CILE }'"
      ]
     },
     "execution_count": 20,
     "metadata": {},
     "output_type": "execute_result"
    }
   ],
   "source": [
    "peplist = pepspile.split('\\n')[:-1]\n",
    "peplist[0]"
   ]
  },
  {
   "cell_type": "code",
   "execution_count": 24,
   "metadata": {},
   "outputs": [
    {
     "data": {
      "text/plain": [
       "[{'Id': 'NVALLYSASPVALCILE', 'MessageBody': '{ NVAL LYS ASP VAL CILE }'},\n",
       " {'Id': 'NMETASNLYSTRPCALA', 'MessageBody': '{ NMET ASN LYS TRP CALA }'},\n",
       " {'Id': 'NHISGLYVALVALCGLN', 'MessageBody': '{ NHIS GLY VAL VAL CGLN }'},\n",
       " {'Id': 'NHISHISCYSTYRCASN', 'MessageBody': '{ NHIS HIS CYS TYR CASN }'},\n",
       " {'Id': 'NGLYGLYASNPROCGLY', 'MessageBody': '{ NGLY GLY ASN PRO CGLY }'},\n",
       " {'Id': 'NGLYTYRVALGLUCLEU', 'MessageBody': '{ NGLY TYR VAL GLU CLEU }'},\n",
       " {'Id': 'NHISTYRALAASNCPRO', 'MessageBody': '{ NHIS TYR ALA ASN CPRO }'},\n",
       " {'Id': 'NALAMETLYSTRPCALA', 'MessageBody': '{ NALA MET LYS TRP CALA }'},\n",
       " {'Id': 'NGLYTYRVALGLUCALA', 'MessageBody': '{ NGLY TYR VAL GLU CALA }'},\n",
       " {'Id': 'NGLYTYRVALVALCLEU', 'MessageBody': '{ NGLY TYR VAL VAL CLEU }'}]"
      ]
     },
     "execution_count": 24,
     "metadata": {},
     "output_type": "execute_result"
    }
   ],
   "source": [
    "entries = []\n",
    "for pep in peplist:\n",
    "    id_ = pep[1:-1].replace(' ', '')\n",
    "    entries.append({'Id': id_, 'MessageBody': pep})\n",
    "    \n",
    "entries"
   ]
  },
  {
   "cell_type": "code",
   "execution_count": 102,
   "metadata": {},
   "outputs": [],
   "source": [
    "response = queue.send_messages(Entries=entries)"
   ]
  },
  {
   "cell_type": "code",
   "execution_count": 103,
   "metadata": {},
   "outputs": [
    {
     "data": {
      "text/plain": [
       "{'Successful': [{'Id': 'NVALLYSASPVALCILE',\n",
       "   'MessageId': 'cb45a30e-35d2-4296-9b83-f70b28b6a79a',\n",
       "   'MD5OfMessageBody': '66b66855f2f5f4897657d68e0c4b84d6'},\n",
       "  {'Id': 'NMETASNLYSTRPCALA',\n",
       "   'MessageId': 'e91599e7-2cf0-45d0-b087-52a413126509',\n",
       "   'MD5OfMessageBody': '481b1d63076c59510816e5d0e5ec1aeb'},\n",
       "  {'Id': 'NHISGLYVALVALCGLN',\n",
       "   'MessageId': 'f64a040e-7296-4c01-b29f-4d43a1d3713a',\n",
       "   'MD5OfMessageBody': 'a4fe9ed4f2783fb7911c92ba739045e4'},\n",
       "  {'Id': 'NHISHISCYSTYRCASN',\n",
       "   'MessageId': '4d38956a-a978-405e-b290-d51593a57206',\n",
       "   'MD5OfMessageBody': '86ea5cba7647abd91fe0107941debbc6'},\n",
       "  {'Id': 'NGLYGLYASNPROCGLY',\n",
       "   'MessageId': '88bac38a-2559-4804-904d-67b0caa73508',\n",
       "   'MD5OfMessageBody': 'fa27c27f7647f96297341b63eb268a78'},\n",
       "  {'Id': 'NGLYTYRVALGLUCLEU',\n",
       "   'MessageId': '2bb5f2e4-22db-4d08-9d3b-a4fff99e4ddb',\n",
       "   'MD5OfMessageBody': 'a6e1d00d3b1c654474cd04aef4026b15'},\n",
       "  {'Id': 'NHISTYRALAASNCPRO',\n",
       "   'MessageId': 'c5ed78d3-f7ed-4690-a399-48a9d5360306',\n",
       "   'MD5OfMessageBody': '66235fd54031b4eb29edf7a09e45f715'},\n",
       "  {'Id': 'NALAMETLYSTRPCALA',\n",
       "   'MessageId': '180d0831-e7ff-45f1-9691-6babac2ba3d3',\n",
       "   'MD5OfMessageBody': 'ad311dbaa7b7d813322c62f6b8ae72c9'},\n",
       "  {'Id': 'NGLYTYRVALGLUCALA',\n",
       "   'MessageId': 'f242e2c7-3990-4ed6-9ae1-a87ef4bb6f42',\n",
       "   'MD5OfMessageBody': '554818a9ad39b5d29f8b9efe1dd4ecbc'},\n",
       "  {'Id': 'NGLYTYRVALVALCLEU',\n",
       "   'MessageId': 'bcf6fd53-b76e-4ec0-8f93-9dd8b9703be8',\n",
       "   'MD5OfMessageBody': '6af5984c3a8f2a7783ddc214ac9f0d2f'}],\n",
       " 'ResponseMetadata': {'RequestId': '3560e54e-edd6-5a1e-8c77-bd67dd149883',\n",
       "  'HTTPStatusCode': 200,\n",
       "  'HTTPHeaders': {'x-amzn-requestid': '3560e54e-edd6-5a1e-8c77-bd67dd149883',\n",
       "   'date': 'Sat, 14 Nov 2020 01:10:26 GMT',\n",
       "   'content-type': 'text/xml',\n",
       "   'content-length': '2400'},\n",
       "  'RetryAttempts': 0}}"
      ]
     },
     "execution_count": 103,
     "metadata": {},
     "output_type": "execute_result"
    }
   ],
   "source": [
    "response"
   ]
  },
  {
   "cell_type": "markdown",
   "metadata": {},
   "source": [
    "### Read from queue"
   ]
  },
  {
   "cell_type": "code",
   "execution_count": 105,
   "metadata": {},
   "outputs": [],
   "source": [
    "response = queue.receive_messages(\n",
    "    QueueUrl=sqs_q,\n",
    "    MaxNumberOfMessages=1,\n",
    "    MessageAttributeNames=[\n",
    "        'All'\n",
    "    ],\n",
    ")"
   ]
  },
  {
   "cell_type": "code",
   "execution_count": 32,
   "metadata": {},
   "outputs": [
    {
     "data": {
      "text/plain": [
       "[sqs.Message(queue_url='https://us-west-2.queue.amazonaws.com/344265375347/pepttest', receipt_handle='AQEB4EewGa9wlUbKXqQRkSZbGWzvQmzl8GqGSZCISvQzhyFVd9e3Pwj7u9TLdyeNCFcedwSYKc0mzQQpBekdJWoS6a3+Z+NEAP03xnzV2Iz0n13yZSV08Y2a3HAphc7F4GM1cnMWaVfZ/qCuj/kLe8niX7eCpU9/uH8/9RM1HogY2Bq3fPsxNxDvX6HWdwgu3pD4/dWbK1gpKR8etVgkkkR/dd3G6nr+6N+xaKpO9sNfzrquNI7azKpEIgdNBviHFwCYXYVPpUdloceny9wTaxzhIcQHRFOpf6F1ua54gPwXEeSSqUUM7SOx8HMrSlWyAaVPhFiGxE/vTFcM03Jif8clSpUD0W3v04lNB+iItvCCmwQq+KPgzJZiHo6fmtyFz+ZU0F+SxO3RcxVR3TFxWEGRXA==')]"
      ]
     },
     "execution_count": 32,
     "metadata": {},
     "output_type": "execute_result"
    }
   ],
   "source": [
    "response"
   ]
  },
  {
   "cell_type": "code",
   "execution_count": 65,
   "metadata": {},
   "outputs": [
    {
     "data": {
      "text/plain": [
       "'{ NHIS GLY VAL VAL CGLN }'"
      ]
     },
     "execution_count": 65,
     "metadata": {},
     "output_type": "execute_result"
    }
   ],
   "source": [
    "response[0].body"
   ]
  },
  {
   "cell_type": "code",
   "execution_count": 72,
   "metadata": {},
   "outputs": [
    {
     "data": {
      "text/plain": [
       "'{ NHIS GLY VAL VAL CGLN }'"
      ]
     },
     "execution_count": 72,
     "metadata": {},
     "output_type": "execute_result"
    }
   ],
   "source": [
    "queue.receive_messages(\n",
    "    QueueUrl=sqs_q,\n",
    "    MaxNumberOfMessages=1,\n",
    "    MessageAttributeNames=[\n",
    "        'All'\n",
    "    ],\n",
    "    VisibilityTimeout=0,\n",
    "    WaitTimeSeconds=0\n",
    ")[0].body"
   ]
  },
  {
   "cell_type": "code",
   "execution_count": 81,
   "metadata": {},
   "outputs": [
    {
     "data": {
      "text/plain": [
       "'{ NVAL LYS ASP VAL CILE }'"
      ]
     },
     "execution_count": 81,
     "metadata": {},
     "output_type": "execute_result"
    }
   ],
   "source": [
    "queue.receive_messages(\n",
    "    QueueUrl=sqs_q,\n",
    "    MaxNumberOfMessages=1,\n",
    "    MessageAttributeNames=[\n",
    "        'All'\n",
    "    ],\n",
    ")[0].body"
   ]
  },
  {
   "cell_type": "code",
   "execution_count": 121,
   "metadata": {},
   "outputs": [],
   "source": [
    "m = queue.receive_messages(\n",
    "    QueueUrl=sqs_q,\n",
    "    MaxNumberOfMessages=1,\n",
    "    MessageAttributeNames=[\n",
    "        'All'\n",
    "    ],\n",
    ")"
   ]
  },
  {
   "cell_type": "code",
   "execution_count": 88,
   "metadata": {},
   "outputs": [
    {
     "data": {
      "text/plain": [
       "'{ NHIS TYR ALA ASN CPRO }'"
      ]
     },
     "execution_count": 88,
     "metadata": {},
     "output_type": "execute_result"
    }
   ],
   "source": [
    "m[0].body"
   ]
  },
  {
   "cell_type": "code",
   "execution_count": 48,
   "metadata": {},
   "outputs": [
    {
     "data": {
      "text/plain": [
       "sqs.Message(queue_url='https://us-west-2.queue.amazonaws.com/344265375347/pepttest', receipt_handle='AQEBQTl5PX1BhW5DLXwT4u2e1JKHLlj3IHlIKN6WfeGTe5VFoafKC6RV8lxTsufzAkczcr++YczKH9+jFH+JDlRs4qCtFX8BniTEMYeCnkmH1jIFveUadtknXdGmf8YBqI/u8CHXnOwv2jNLLPQn5syA2JE5qSYXDLQbXWigIljSEMMg77aUI+LNtteDjP+UJ18YEx2t9cjdE7PFv/issfzYqJGGlOdkIXCS5UrhJzS0Mh0F3S7+UD/zAHO4dE7pBImhiGk1LWHSNa9S4PdIvpI4vovBjWO4d5kJOuZZURAd0XDJohkiuYyOXXYV2oMte47MFPwkZrBk/tfBz9EW1f8QMX4E5+Ua2XmuOktU2x0uuw9agLOQqpYg8ZSL0uz4aArne2y4yoZFGzxPldVFVYT5OQ==')"
      ]
     },
     "execution_count": 48,
     "metadata": {},
     "output_type": "execute_result"
    }
   ],
   "source": [
    "m[0]"
   ]
  },
  {
   "cell_type": "markdown",
   "metadata": {},
   "source": [
    "### After the msg is processed, delete it."
   ]
  },
  {
   "cell_type": "code",
   "execution_count": 68,
   "metadata": {},
   "outputs": [
    {
     "data": {
      "text/plain": [
       "'9'"
      ]
     },
     "execution_count": 68,
     "metadata": {},
     "output_type": "execute_result"
    }
   ],
   "source": [
    "queue.attributes['ApproximateNumberOfMessages']"
   ]
  },
  {
   "cell_type": "code",
   "execution_count": 114,
   "metadata": {},
   "outputs": [],
   "source": [
    "responsedel = queue.delete_messages(\n",
    "    Entries=[\n",
    "        {\n",
    "            'Id': m[0].message_id,\n",
    "            'ReceiptHandle': m[0].receipt_handle\n",
    "        },\n",
    "    ]\n",
    ")"
   ]
  },
  {
   "cell_type": "code",
   "execution_count": 70,
   "metadata": {},
   "outputs": [
    {
     "data": {
      "text/plain": [
       "{'Successful': [{'Id': '26b2b81f-fd7c-42d4-a0f8-38fe00d6d820'}],\n",
       " 'ResponseMetadata': {'RequestId': '67425040-7eab-522c-ae64-0869535e6675',\n",
       "  'HTTPStatusCode': 200,\n",
       "  'HTTPHeaders': {'x-amzn-requestid': '67425040-7eab-522c-ae64-0869535e6675',\n",
       "   'date': 'Sat, 14 Nov 2020 00:58:29 GMT',\n",
       "   'content-type': 'text/xml',\n",
       "   'content-length': '386'},\n",
       "  'RetryAttempts': 0}}"
      ]
     },
     "execution_count": 70,
     "metadata": {},
     "output_type": "execute_result"
    }
   ],
   "source": [
    "responsedel"
   ]
  },
  {
   "cell_type": "code",
   "execution_count": 71,
   "metadata": {},
   "outputs": [
    {
     "data": {
      "text/plain": [
       "'8'"
      ]
     },
     "execution_count": 71,
     "metadata": {},
     "output_type": "execute_result"
    }
   ],
   "source": [
    "queue.attributes['ApproximateNumberOfMessages']"
   ]
  }
 ],
 "metadata": {
  "kernelspec": {
   "display_name": "Python 3",
   "language": "python",
   "name": "python3"
  },
  "language_info": {
   "codemirror_mode": {
    "name": "ipython",
    "version": 3
   },
   "file_extension": ".py",
   "mimetype": "text/x-python",
   "name": "python",
   "nbconvert_exporter": "python",
   "pygments_lexer": "ipython3",
   "version": "3.7.8"
  }
 },
 "nbformat": 4,
 "nbformat_minor": 4
}
